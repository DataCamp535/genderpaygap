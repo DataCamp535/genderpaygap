{
 "cells": [
  {
   "cell_type": "markdown",
   "id": "cfbdda3d",
   "metadata": {},
   "source": [
    "The aim of this project is to get insight on whether there is a gender pay gap for developers in Germany. To do so, stackoverflow's 2022 Annual Developer Survey data is used to get insight on male and female developers in Germany, their educational and experience background, their age and the organizational size of the company they work for. All these factors might influence their salary. After getting a good understanding of whether male and female developers who answered the survey are both equally qualified, two forecasting models are built in order to predict the salary a developer can achieve - one with including gender information and one without. With comparing the performance of both models, information on whether there exists a gender pay gap for developers in Germany can be achieved."
   ]
  },
  {
   "cell_type": "markdown",
   "id": "2a2825d1",
   "metadata": {},
   "source": [
    "To achieve the end results for this project, we will be employing the CRISP-DM Process (Cross Industry Process for Data Mining). It includes the following steps:"
   ]
  },
  {
   "cell_type": "markdown",
   "id": "04270693",
   "metadata": {},
   "source": [
    "1. business understanding\n",
    "2. data understanding\n",
    "3. prepare data\n",
    "4. data modelling\n",
    "5. evaluate the results\n",
    "6. deploy"
   ]
  },
  {
   "cell_type": "markdown",
   "id": "fd7f13c7",
   "metadata": {},
   "source": [
    "## Importing Necessary Libraries"
   ]
  },
  {
   "cell_type": "code",
   "execution_count": 1,
   "id": "9dd2a6db",
   "metadata": {
    "scrolled": true
   },
   "outputs": [],
   "source": [
    "import pandas as pd\n",
    "import numpy as np\n",
    "import seaborn as sns\n",
    "import matplotlib.pyplot as plt\n",
    "\n",
    "%matplotlib inline"
   ]
  },
  {
   "cell_type": "markdown",
   "id": "d92bac9b",
   "metadata": {},
   "source": [
    "## Loading the Data"
   ]
  },
  {
   "cell_type": "markdown",
   "id": "6f7e5a46",
   "metadata": {},
   "source": [
    "In this analysis to better compare salaries, we'll focus on one country only, which will be German participants."
   ]
  },
  {
   "cell_type": "code",
   "execution_count": 2,
   "id": "9b91baf5",
   "metadata": {
    "scrolled": true
   },
   "outputs": [
    {
     "data": {
      "text/html": [
       "<div>\n",
       "<style scoped>\n",
       "    .dataframe tbody tr th:only-of-type {\n",
       "        vertical-align: middle;\n",
       "    }\n",
       "\n",
       "    .dataframe tbody tr th {\n",
       "        vertical-align: top;\n",
       "    }\n",
       "\n",
       "    .dataframe thead th {\n",
       "        text-align: right;\n",
       "    }\n",
       "</style>\n",
       "<table border=\"1\" class=\"dataframe\">\n",
       "  <thead>\n",
       "    <tr style=\"text-align: right;\">\n",
       "      <th></th>\n",
       "      <th>Unnamed: 0</th>\n",
       "      <th>ResponseId</th>\n",
       "      <th>MainBranch</th>\n",
       "      <th>Employment</th>\n",
       "      <th>RemoteWork</th>\n",
       "      <th>CodingActivities</th>\n",
       "      <th>EdLevel</th>\n",
       "      <th>LearnCode</th>\n",
       "      <th>LearnCodeOnline</th>\n",
       "      <th>LearnCodeCoursesCert</th>\n",
       "      <th>...</th>\n",
       "      <th>TimeSearching</th>\n",
       "      <th>TimeAnswering</th>\n",
       "      <th>Onboarding</th>\n",
       "      <th>ProfessionalTech</th>\n",
       "      <th>TrueFalse_1</th>\n",
       "      <th>TrueFalse_2</th>\n",
       "      <th>TrueFalse_3</th>\n",
       "      <th>SurveyLength</th>\n",
       "      <th>SurveyEase</th>\n",
       "      <th>ConvertedCompYearly</th>\n",
       "    </tr>\n",
       "  </thead>\n",
       "  <tbody>\n",
       "    <tr>\n",
       "      <th>0</th>\n",
       "      <td>5</td>\n",
       "      <td>6</td>\n",
       "      <td>I am not primarily a developer, but I write co...</td>\n",
       "      <td>Student, full-time</td>\n",
       "      <td>NaN</td>\n",
       "      <td>NaN</td>\n",
       "      <td>Master’s degree (M.A., M.S., M.Eng., MBA, etc.)</td>\n",
       "      <td>Books / Physical media;School (i.e., Universit...</td>\n",
       "      <td>NaN</td>\n",
       "      <td>NaN</td>\n",
       "      <td>...</td>\n",
       "      <td>NaN</td>\n",
       "      <td>NaN</td>\n",
       "      <td>NaN</td>\n",
       "      <td>NaN</td>\n",
       "      <td>NaN</td>\n",
       "      <td>NaN</td>\n",
       "      <td>NaN</td>\n",
       "      <td>Appropriate in length</td>\n",
       "      <td>Easy</td>\n",
       "      <td>NaN</td>\n",
       "    </tr>\n",
       "    <tr>\n",
       "      <th>1</th>\n",
       "      <td>25</td>\n",
       "      <td>26</td>\n",
       "      <td>I am a developer by profession</td>\n",
       "      <td>Employed, full-time</td>\n",
       "      <td>Hybrid (some remote, some in-person)</td>\n",
       "      <td>Hobby</td>\n",
       "      <td>Master’s degree (M.A., M.S., M.Eng., MBA, etc.)</td>\n",
       "      <td>Books / Physical media;Other online resources ...</td>\n",
       "      <td>Technical documentation;Blogs;Written Tutorial...</td>\n",
       "      <td>Coursera;Udemy;Codecademy;edX;Udacity</td>\n",
       "      <td>...</td>\n",
       "      <td>30-60 minutes a day</td>\n",
       "      <td>60-120 minutes a day</td>\n",
       "      <td>Somewhat short</td>\n",
       "      <td>DevOps function;Microservices;Continuous integ...</td>\n",
       "      <td>Yes</td>\n",
       "      <td>No</td>\n",
       "      <td>Yes</td>\n",
       "      <td>Appropriate in length</td>\n",
       "      <td>Neither easy nor difficult</td>\n",
       "      <td>90647.0</td>\n",
       "    </tr>\n",
       "    <tr>\n",
       "      <th>2</th>\n",
       "      <td>48</td>\n",
       "      <td>49</td>\n",
       "      <td>I am a developer by profession</td>\n",
       "      <td>Employed, full-time</td>\n",
       "      <td>Hybrid (some remote, some in-person)</td>\n",
       "      <td>Hobby;Contribute to open-source projects</td>\n",
       "      <td>Some college/university study without earning ...</td>\n",
       "      <td>Books / Physical media;Other online resources ...</td>\n",
       "      <td>Technical documentation;Blogs;Written Tutorial...</td>\n",
       "      <td>NaN</td>\n",
       "      <td>...</td>\n",
       "      <td>15-30 minutes a day</td>\n",
       "      <td>Less than 15 minutes a day</td>\n",
       "      <td>Just right</td>\n",
       "      <td>Continuous integration (CI) and (more often) c...</td>\n",
       "      <td>Yes</td>\n",
       "      <td>No</td>\n",
       "      <td>Yes</td>\n",
       "      <td>Appropriate in length</td>\n",
       "      <td>Easy</td>\n",
       "      <td>106644.0</td>\n",
       "    </tr>\n",
       "    <tr>\n",
       "      <th>3</th>\n",
       "      <td>49</td>\n",
       "      <td>50</td>\n",
       "      <td>I am a developer by profession</td>\n",
       "      <td>Employed, full-time</td>\n",
       "      <td>Fully remote</td>\n",
       "      <td>Hobby</td>\n",
       "      <td>Secondary school (e.g. American high school, G...</td>\n",
       "      <td>Other online resources (e.g., videos, blogs, f...</td>\n",
       "      <td>Technical documentation;Blogs;Stack Overflow</td>\n",
       "      <td>NaN</td>\n",
       "      <td>...</td>\n",
       "      <td>30-60 minutes a day</td>\n",
       "      <td>15-30 minutes a day</td>\n",
       "      <td>Somewhat long</td>\n",
       "      <td>Continuous integration (CI) and (more often) c...</td>\n",
       "      <td>No</td>\n",
       "      <td>No</td>\n",
       "      <td>Yes</td>\n",
       "      <td>Appropriate in length</td>\n",
       "      <td>Easy</td>\n",
       "      <td>51192.0</td>\n",
       "    </tr>\n",
       "    <tr>\n",
       "      <th>4</th>\n",
       "      <td>59</td>\n",
       "      <td>60</td>\n",
       "      <td>I am a developer by profession</td>\n",
       "      <td>Employed, full-time</td>\n",
       "      <td>Hybrid (some remote, some in-person)</td>\n",
       "      <td>Hobby</td>\n",
       "      <td>Bachelor’s degree (B.A., B.S., B.Eng., etc.)</td>\n",
       "      <td>Other online resources (e.g., videos, blogs, f...</td>\n",
       "      <td>Technical documentation;Blogs;Written Tutorial...</td>\n",
       "      <td>Codecademy</td>\n",
       "      <td>...</td>\n",
       "      <td>Over 120 minutes a day</td>\n",
       "      <td>30-60 minutes a day</td>\n",
       "      <td>Somewhat long</td>\n",
       "      <td>None of these</td>\n",
       "      <td>No</td>\n",
       "      <td>No</td>\n",
       "      <td>No</td>\n",
       "      <td>Too short</td>\n",
       "      <td>Easy</td>\n",
       "      <td>63986.0</td>\n",
       "    </tr>\n",
       "  </tbody>\n",
       "</table>\n",
       "<p>5 rows × 80 columns</p>\n",
       "</div>"
      ],
      "text/plain": [
       "   Unnamed: 0  ResponseId                                         MainBranch  \\\n",
       "0           5           6  I am not primarily a developer, but I write co...   \n",
       "1          25          26                     I am a developer by profession   \n",
       "2          48          49                     I am a developer by profession   \n",
       "3          49          50                     I am a developer by profession   \n",
       "4          59          60                     I am a developer by profession   \n",
       "\n",
       "            Employment                            RemoteWork  \\\n",
       "0   Student, full-time                                   NaN   \n",
       "1  Employed, full-time  Hybrid (some remote, some in-person)   \n",
       "2  Employed, full-time  Hybrid (some remote, some in-person)   \n",
       "3  Employed, full-time                          Fully remote   \n",
       "4  Employed, full-time  Hybrid (some remote, some in-person)   \n",
       "\n",
       "                           CodingActivities  \\\n",
       "0                                       NaN   \n",
       "1                                     Hobby   \n",
       "2  Hobby;Contribute to open-source projects   \n",
       "3                                     Hobby   \n",
       "4                                     Hobby   \n",
       "\n",
       "                                             EdLevel  \\\n",
       "0    Master’s degree (M.A., M.S., M.Eng., MBA, etc.)   \n",
       "1    Master’s degree (M.A., M.S., M.Eng., MBA, etc.)   \n",
       "2  Some college/university study without earning ...   \n",
       "3  Secondary school (e.g. American high school, G...   \n",
       "4       Bachelor’s degree (B.A., B.S., B.Eng., etc.)   \n",
       "\n",
       "                                           LearnCode  \\\n",
       "0  Books / Physical media;School (i.e., Universit...   \n",
       "1  Books / Physical media;Other online resources ...   \n",
       "2  Books / Physical media;Other online resources ...   \n",
       "3  Other online resources (e.g., videos, blogs, f...   \n",
       "4  Other online resources (e.g., videos, blogs, f...   \n",
       "\n",
       "                                     LearnCodeOnline  \\\n",
       "0                                                NaN   \n",
       "1  Technical documentation;Blogs;Written Tutorial...   \n",
       "2  Technical documentation;Blogs;Written Tutorial...   \n",
       "3       Technical documentation;Blogs;Stack Overflow   \n",
       "4  Technical documentation;Blogs;Written Tutorial...   \n",
       "\n",
       "                    LearnCodeCoursesCert  ...           TimeSearching  \\\n",
       "0                                    NaN  ...                     NaN   \n",
       "1  Coursera;Udemy;Codecademy;edX;Udacity  ...     30-60 minutes a day   \n",
       "2                                    NaN  ...     15-30 minutes a day   \n",
       "3                                    NaN  ...     30-60 minutes a day   \n",
       "4                             Codecademy  ...  Over 120 minutes a day   \n",
       "\n",
       "                TimeAnswering      Onboarding  \\\n",
       "0                         NaN             NaN   \n",
       "1        60-120 minutes a day  Somewhat short   \n",
       "2  Less than 15 minutes a day      Just right   \n",
       "3         15-30 minutes a day   Somewhat long   \n",
       "4         30-60 minutes a day   Somewhat long   \n",
       "\n",
       "                                    ProfessionalTech TrueFalse_1 TrueFalse_2  \\\n",
       "0                                                NaN         NaN         NaN   \n",
       "1  DevOps function;Microservices;Continuous integ...         Yes          No   \n",
       "2  Continuous integration (CI) and (more often) c...         Yes          No   \n",
       "3  Continuous integration (CI) and (more often) c...          No          No   \n",
       "4                                      None of these          No          No   \n",
       "\n",
       "  TrueFalse_3           SurveyLength                  SurveyEase  \\\n",
       "0         NaN  Appropriate in length                        Easy   \n",
       "1         Yes  Appropriate in length  Neither easy nor difficult   \n",
       "2         Yes  Appropriate in length                        Easy   \n",
       "3         Yes  Appropriate in length                        Easy   \n",
       "4          No              Too short                        Easy   \n",
       "\n",
       "  ConvertedCompYearly  \n",
       "0                 NaN  \n",
       "1             90647.0  \n",
       "2            106644.0  \n",
       "3             51192.0  \n",
       "4             63986.0  \n",
       "\n",
       "[5 rows x 80 columns]"
      ]
     },
     "execution_count": 2,
     "metadata": {},
     "output_type": "execute_result"
    }
   ],
   "source": [
    "df = pd.read_csv('./Data/data_germany.csv')\n",
    "df.head(5)"
   ]
  },
  {
   "cell_type": "markdown",
   "id": "d4402667",
   "metadata": {},
   "source": [
    "Let's also have a look at the Stackoverflow developer's survey's question (2022 survey):"
   ]
  },
  {
   "cell_type": "code",
   "execution_count": 3,
   "id": "c2216645",
   "metadata": {
    "scrolled": true
   },
   "outputs": [
    {
     "data": {
      "text/html": [
       "<div>\n",
       "<style scoped>\n",
       "    .dataframe tbody tr th:only-of-type {\n",
       "        vertical-align: middle;\n",
       "    }\n",
       "\n",
       "    .dataframe tbody tr th {\n",
       "        vertical-align: top;\n",
       "    }\n",
       "\n",
       "    .dataframe thead th {\n",
       "        text-align: right;\n",
       "    }\n",
       "</style>\n",
       "<table border=\"1\" class=\"dataframe\">\n",
       "  <thead>\n",
       "    <tr style=\"text-align: right;\">\n",
       "      <th></th>\n",
       "      <th>qid</th>\n",
       "      <th>qname</th>\n",
       "      <th>question</th>\n",
       "      <th>force_resp</th>\n",
       "      <th>type</th>\n",
       "      <th>selector</th>\n",
       "    </tr>\n",
       "  </thead>\n",
       "  <tbody>\n",
       "    <tr>\n",
       "      <th>0</th>\n",
       "      <td>QID16</td>\n",
       "      <td>S0</td>\n",
       "      <td>&lt;div&gt;&lt;span style=\"font-size:19px;\"&gt;&lt;strong&gt;Hel...</td>\n",
       "      <td>False</td>\n",
       "      <td>DB</td>\n",
       "      <td>TB</td>\n",
       "    </tr>\n",
       "    <tr>\n",
       "      <th>1</th>\n",
       "      <td>QID12</td>\n",
       "      <td>MetaInfo</td>\n",
       "      <td>Browser Meta Info</td>\n",
       "      <td>False</td>\n",
       "      <td>Meta</td>\n",
       "      <td>Browser</td>\n",
       "    </tr>\n",
       "    <tr>\n",
       "      <th>2</th>\n",
       "      <td>QID1</td>\n",
       "      <td>S1</td>\n",
       "      <td>&lt;span style=\"font-size:22px; font-family: aria...</td>\n",
       "      <td>False</td>\n",
       "      <td>DB</td>\n",
       "      <td>TB</td>\n",
       "    </tr>\n",
       "    <tr>\n",
       "      <th>3</th>\n",
       "      <td>QID2</td>\n",
       "      <td>MainBranch</td>\n",
       "      <td>Which of the following options best describes ...</td>\n",
       "      <td>True</td>\n",
       "      <td>MC</td>\n",
       "      <td>SAVR</td>\n",
       "    </tr>\n",
       "    <tr>\n",
       "      <th>4</th>\n",
       "      <td>QID296</td>\n",
       "      <td>Employment</td>\n",
       "      <td>Which of the following best describes your cur...</td>\n",
       "      <td>False</td>\n",
       "      <td>MC</td>\n",
       "      <td>MAVR</td>\n",
       "    </tr>\n",
       "    <tr>\n",
       "      <th>...</th>\n",
       "      <td>...</td>\n",
       "      <td>...</td>\n",
       "      <td>...</td>\n",
       "      <td>...</td>\n",
       "      <td>...</td>\n",
       "      <td>...</td>\n",
       "    </tr>\n",
       "    <tr>\n",
       "      <th>74</th>\n",
       "      <td>QID290</td>\n",
       "      <td>Frequency_2</td>\n",
       "      <td>Interacting with people outside of your immedi...</td>\n",
       "      <td>NaN</td>\n",
       "      <td>MC</td>\n",
       "      <td>MAVR</td>\n",
       "    </tr>\n",
       "    <tr>\n",
       "      <th>75</th>\n",
       "      <td>QID290</td>\n",
       "      <td>Frequency_3</td>\n",
       "      <td>Encountering knowledge silos (where one indivi...</td>\n",
       "      <td>NaN</td>\n",
       "      <td>MC</td>\n",
       "      <td>MAVR</td>\n",
       "    </tr>\n",
       "    <tr>\n",
       "      <th>76</th>\n",
       "      <td>QID294</td>\n",
       "      <td>TrueFalse_1</td>\n",
       "      <td>Are you involved in supporting new hires durin...</td>\n",
       "      <td>NaN</td>\n",
       "      <td>MC</td>\n",
       "      <td>MAVR</td>\n",
       "    </tr>\n",
       "    <tr>\n",
       "      <th>77</th>\n",
       "      <td>QID294</td>\n",
       "      <td>TrueFalse_2</td>\n",
       "      <td>Do you use learning resources provided by your...</td>\n",
       "      <td>NaN</td>\n",
       "      <td>MC</td>\n",
       "      <td>MAVR</td>\n",
       "    </tr>\n",
       "    <tr>\n",
       "      <th>78</th>\n",
       "      <td>QID294</td>\n",
       "      <td>TrueFalse_3</td>\n",
       "      <td>Does your employer give you time to learn new ...</td>\n",
       "      <td>NaN</td>\n",
       "      <td>MC</td>\n",
       "      <td>MAVR</td>\n",
       "    </tr>\n",
       "  </tbody>\n",
       "</table>\n",
       "<p>79 rows × 6 columns</p>\n",
       "</div>"
      ],
      "text/plain": [
       "       qid        qname                                           question  \\\n",
       "0    QID16           S0  <div><span style=\"font-size:19px;\"><strong>Hel...   \n",
       "1    QID12     MetaInfo                                  Browser Meta Info   \n",
       "2     QID1           S1  <span style=\"font-size:22px; font-family: aria...   \n",
       "3     QID2   MainBranch  Which of the following options best describes ...   \n",
       "4   QID296   Employment  Which of the following best describes your cur...   \n",
       "..     ...          ...                                                ...   \n",
       "74  QID290  Frequency_2  Interacting with people outside of your immedi...   \n",
       "75  QID290  Frequency_3  Encountering knowledge silos (where one indivi...   \n",
       "76  QID294  TrueFalse_1  Are you involved in supporting new hires durin...   \n",
       "77  QID294  TrueFalse_2  Do you use learning resources provided by your...   \n",
       "78  QID294  TrueFalse_3  Does your employer give you time to learn new ...   \n",
       "\n",
       "   force_resp  type selector  \n",
       "0       False    DB       TB  \n",
       "1       False  Meta  Browser  \n",
       "2       False    DB       TB  \n",
       "3        True    MC     SAVR  \n",
       "4       False    MC     MAVR  \n",
       "..        ...   ...      ...  \n",
       "74        NaN    MC     MAVR  \n",
       "75        NaN    MC     MAVR  \n",
       "76        NaN    MC     MAVR  \n",
       "77        NaN    MC     MAVR  \n",
       "78        NaN    MC     MAVR  \n",
       "\n",
       "[79 rows x 6 columns]"
      ]
     },
     "execution_count": 3,
     "metadata": {},
     "output_type": "execute_result"
    }
   ],
   "source": [
    "df_q=pd.read_csv('./Data/survey_results_schema.csv')\n",
    "df_q.head(79)"
   ]
  },
  {
   "cell_type": "markdown",
   "id": "ab12d983",
   "metadata": {},
   "source": [
    "## Gender"
   ]
  },
  {
   "cell_type": "markdown",
   "id": "65887e03",
   "metadata": {},
   "source": [
    "In this project, we would like to compare the Salary of Men and Women based on different criteria.\n",
    "Since the survey offers a variety of answers to the question of the Gender (includig non-binary gender specification), we will focus on only the results of participants who either identified themselves as Men or Women."
   ]
  },
  {
   "cell_type": "code",
   "execution_count": 4,
   "id": "706bae05",
   "metadata": {
    "scrolled": true
   },
   "outputs": [
    {
     "data": {
      "text/plain": [
       "Man                                                                               4925\n",
       "Woman                                                                              187\n",
       "Prefer not to say                                                                   98\n",
       "Non-binary, genderqueer, or gender non-conforming                                   64\n",
       "Or, in your own words:                                                              25\n",
       "Man;Non-binary, genderqueer, or gender non-conforming                               20\n",
       "Woman;Non-binary, genderqueer, or gender non-conforming                             13\n",
       "Man;Or, in your own words:                                                          12\n",
       "Man;Woman                                                                            2\n",
       "Or, in your own words:;Non-binary, genderqueer, or gender non-conforming             2\n",
       "Or, in your own words:;Woman;Non-binary, genderqueer, or gender non-conforming       1\n",
       "Man;Woman;Non-binary, genderqueer, or gender non-conforming                          1\n",
       "Man;Or, in your own words:;Non-binary, genderqueer, or gender non-conforming         1\n",
       "Or, in your own words:;Woman                                                         1\n",
       "Name: Gender, dtype: int64"
      ]
     },
     "execution_count": 4,
     "metadata": {},
     "output_type": "execute_result"
    }
   ],
   "source": [
    "df['Gender'].value_counts()"
   ]
  },
  {
   "cell_type": "code",
   "execution_count": 5,
   "id": "dbad4ed9",
   "metadata": {},
   "outputs": [],
   "source": [
    "# only use answers with a clear gender identification\n",
    "df=df[(df['Gender']=='Man') | (df['Gender']=='Woman')].copy()"
   ]
  },
  {
   "cell_type": "code",
   "execution_count": 6,
   "id": "9f36f19c",
   "metadata": {
    "scrolled": true
   },
   "outputs": [
    {
     "data": {
      "text/plain": [
       "Man      4925\n",
       "Woman     187\n",
       "Name: Gender, dtype: int64"
      ]
     },
     "execution_count": 6,
     "metadata": {},
     "output_type": "execute_result"
    }
   ],
   "source": [
    "df['Gender'].value_counts()"
   ]
  },
  {
   "cell_type": "markdown",
   "id": "1bba106d",
   "metadata": {},
   "source": [
    "## Main Branch"
   ]
  },
  {
   "cell_type": "markdown",
   "id": "3b67e0e2",
   "metadata": {},
   "source": [
    "We want to compare the Salary of participants working as developers. The survey is open to developers, as well as hobby coders and former developers. We will only use data of participants working as developers or those not working primarily as developers, but who write code as part of their job."
   ]
  },
  {
   "cell_type": "code",
   "execution_count": 7,
   "id": "a3de7364",
   "metadata": {},
   "outputs": [
    {
     "data": {
      "text/plain": [
       "I am a developer by profession                                                   3875\n",
       "I am not primarily a developer, but I write code sometimes as part of my work     537\n",
       "I code primarily as a hobby                                                       371\n",
       "I am learning to code                                                             241\n",
       "I used to be a developer by profession, but no longer am                           88\n",
       "Name: MainBranch, dtype: int64"
      ]
     },
     "execution_count": 7,
     "metadata": {},
     "output_type": "execute_result"
    }
   ],
   "source": [
    "df['MainBranch'].value_counts()"
   ]
  },
  {
   "cell_type": "code",
   "execution_count": 8,
   "id": "c6d606de",
   "metadata": {},
   "outputs": [],
   "source": [
    "# only use answers of developers or of people who write code as part of their job\n",
    "df=df[(df['MainBranch']=='I am a developer by profession') | (df['MainBranch']=='I am not primarily a developer, but I write code sometimes as part of my work')].copy()"
   ]
  },
  {
   "cell_type": "markdown",
   "id": "e3183ce7",
   "metadata": {},
   "source": [
    "## Comparison between Men and Women"
   ]
  },
  {
   "cell_type": "markdown",
   "id": "9323ca67",
   "metadata": {},
   "source": [
    "Let's have a look at the distribution between Men and Women among developers."
   ]
  },
  {
   "cell_type": "markdown",
   "id": "8bda7a44",
   "metadata": {},
   "source": [
    "### Question 1: How are genders distributed among developers?"
   ]
  },
  {
   "cell_type": "code",
   "execution_count": null,
   "id": "f3adb7ac",
   "metadata": {},
   "outputs": [],
   "source": [
    "# create function to show percentage above bars\n",
    "def percentage_above_bar_relative_to_xgroup(ax):\n",
    "    '''\n",
    "    presents percentage relative to xgroup above bar\n",
    "    input:\n",
    "        ax: axis (region in the plot that contains the data space)\n",
    "    output: \n",
    "        percentage relative to xgroup is presented above bar\n",
    "    '''\n",
    "    all_heights = [[p.get_height() for p in bars] for bars in ax.containers]\n",
    "    for bars in ax.containers:\n",
    "        for i, p in enumerate(bars):\n",
    "            total = sum(xgroup[i] for xgroup in all_heights)\n",
    "            percentage = f'{(100 * p.get_height() / total) :.1f}%'\n",
    "            ax.annotate(percentage, (p.get_x() + p.get_width() / 2, p.get_height()), size=11, ha='center', va='bottom')"
   ]
  },
  {
   "cell_type": "code",
   "execution_count": 38,
   "id": "52b8e5f7",
   "metadata": {
    "scrolled": false
   },
   "outputs": [
    {
     "data": {
      "image/png": "[encoded data removed]",
      "text/plain": [
       "<Figure size 864x144 with 1 Axes>"
      ]
     },
     "metadata": {
      "needs_background": "light"
     },
     "output_type": "display_data"
    }
   ],
   "source": [
    "# create gender distribution plot\n",
    "plt.figure(figsize=(12, 2))\n",
    "ax1 = sns.countplot(x=\"MainBranch\", hue=\"Gender\", data=df)\n",
    "ax1.set(xlabel='MainBranch', ylabel='Count')\n",
    "# show percentages\n",
    "percentage_above_bar_relative_to_xgroup(ax1)\n",
    "# change title\n",
    "plt.title('StackOverflow Survey Data 2022: Gender distribution among developers in Germany', size=14)\n",
    "# save plot\n",
    "plt.savefig('Gender Distribution.png')\n",
    "sns.despine()\n",
    "plt.show()"
   ]
  },
  {
   "cell_type": "code",
   "execution_count": 10,
   "id": "ff904b4e",
   "metadata": {},
   "outputs": [
    {
     "name": "stdout",
     "output_type": "stream",
     "text": [
      "(4412, 80)\n",
      "(4258, 80)\n",
      "(154, 80)\n"
     ]
    }
   ],
   "source": [
    "print(df.shape)\n",
    "print(df[df['Gender']=='Man'].shape)\n",
    "print(df[df['Gender']=='Woman'].shape)"
   ]
  },
  {
   "cell_type": "markdown",
   "id": "663677c1",
   "metadata": {},
   "source": [
    "Among all 4412 German participants, 4258 were Men (96.5%) and 154 (3.5%) were Women. Respectively, female participants form 3.5% of professional developers and also 3.5% of participants who write code sometimes as part of their work."
   ]
  },
  {
   "cell_type": "markdown",
   "id": "eef9a2ec",
   "metadata": {},
   "source": [
    "Along with the salary, we'll also analyze a few factors that might influence the salary of professional developers."
   ]
  },
  {
   "cell_type": "markdown",
   "id": "0e49ad21",
   "metadata": {},
   "source": [
    "### Question 2: What is the educational degree of male and female developers?"
   ]
  },
  {
   "cell_type": "code",
   "execution_count": 39,
   "id": "9cd9cd31",
   "metadata": {},
   "outputs": [
    {
     "data": {
      "image/png": "[encoded data removed]",
      "text/plain": [
       "<Figure size 864x216 with 1 Axes>"
      ]
     },
     "metadata": {
      "needs_background": "light"
     },
     "output_type": "display_data"
    }
   ],
   "source": [
    "# create plot to show educational degree\n",
    "plt.figure(figsize=(12, 3))\n",
    "ax2 = sns.countplot(x=\"EdLevel\", hue=\"Gender\", data=df)\n",
    "ax2.set(xlabel='EdLevel', ylabel='Count')\n",
    "plt.xticks(rotation=90)\n",
    "# show percentages\n",
    "percentage_above_bar_relative_to_xgroup(ax2)\n",
    "# change title\n",
    "plt.title('StackOverflow Survey Data 2022: Educational Degree', size=14)\n",
    "# save plot\n",
    "plt.savefig('Educational Degree.png')\n",
    "sns.despine()\n",
    "plt.show()"
   ]
  },
  {
   "cell_type": "markdown",
   "id": "bd55511e",
   "metadata": {},
   "source": [
    "While only 3.5% of all German participants were female, Women form 3.9% of all participants with a Master's Degree and 4.2% of those with a Bachelor's degree. Women therefore have a slightly higher Educational level than Men participating in this survey."
   ]
  },
  {
   "cell_type": "markdown",
   "id": "fa2efdaa",
   "metadata": {},
   "source": [
    "### Question 3: How many years of Experience do male and female developers have?"
   ]
  },
  {
   "cell_type": "markdown",
   "id": "14d04e83",
   "metadata": {},
   "source": [
    "There are different questions which show the working and coding experience of participants. Let's compare them between Men and Women."
   ]
  },
  {
   "cell_type": "markdown",
   "id": "e53dac44",
   "metadata": {},
   "source": [
    "#### WorkExp"
   ]
  },
  {
   "cell_type": "code",
   "execution_count": 42,
   "id": "608394d1",
   "metadata": {},
   "outputs": [
    {
     "data": {
      "image/png": "[encoded data removed]",
      "text/plain": [
       "<Figure size 504x288 with 2 Axes>"
      ]
     },
     "metadata": {
      "needs_background": "light"
     },
     "output_type": "display_data"
    }
   ],
   "source": [
    "# create plot to show Working Experience\n",
    "fig, axes=plt.subplots(2,1, figsize=(7,4), sharex=True)\n",
    "# Men\n",
    "sns.histplot(data=df[df['Gender']=='Man'], x='WorkExp', ax=axes[0])\n",
    "axes[0].set_title('Men')\n",
    "# Add vertical mean line\n",
    "mean_men0=df[df['Gender']=='Man']['WorkExp'].mean()\n",
    "axes[0].axvline(mean_men0, c='red', linestyle='dashed', label=\"Mean WorkExp\")\n",
    "# Women\n",
    "sns.histplot(data=df[df['Gender']=='Woman'], x='WorkExp', ax=axes[1])\n",
    "axes[1].set_title('Women')\n",
    "# Add vertical mean line\n",
    "mean_women0=df[df['Gender']=='Woman']['WorkExp'].mean()\n",
    "axes[1].axvline(mean_women0, c='red', linestyle='dashed', label=\"Mean WorkExp\")\n",
    "sns.despine()\n",
    "# change title\n",
    "fig.suptitle('StackOverflow Survey Data 2022: Work Experience', size=14)\n",
    "# save plot\n",
    "plt.savefig('Work Experience.png')\n",
    "plt.legend()\n",
    "plt.show()"
   ]
  },
  {
   "cell_type": "code",
   "execution_count": 14,
   "id": "02e404ec",
   "metadata": {
    "scrolled": true
   },
   "outputs": [
    {
     "name": "stdout",
     "output_type": "stream",
     "text": [
      "10.275630252100841\n",
      "8.615384615384615\n"
     ]
    }
   ],
   "source": [
    "print(mean_men0)\n",
    "print(mean_women0)"
   ]
  },
  {
   "cell_type": "markdown",
   "id": "1d7e16b7",
   "metadata": {},
   "source": [
    "Male participants in the survey have a mean working experience of 10.3 years, while female participants only have a working experience of 8.6 years."
   ]
  },
  {
   "cell_type": "markdown",
   "id": "d91b536c",
   "metadata": {},
   "source": [
    "#### YearsCodePro"
   ]
  },
  {
   "cell_type": "markdown",
   "id": "a076876f",
   "metadata": {},
   "source": [
    "To compare the years of experience in coding professionally, we first have to convert the column \"YearsCodePro\" to numeric values. We'll convert \"Less than 1 Year\" to 0 years and \"More than 50 years\" to 51 years."
   ]
  },
  {
   "cell_type": "code",
   "execution_count": 15,
   "id": "bd224d85",
   "metadata": {},
   "outputs": [],
   "source": [
    "# change to numeric values only\n",
    "df['YearsCodePro']=np.where(df['YearsCodePro']=='Less than 1 year',1,df['YearsCodePro'])\n",
    "df['YearsCodePro']=np.where(df['YearsCodePro']=='More than 50 years',51,df['YearsCodePro'])\n",
    "\n",
    "# convert column from object type to float\n",
    "df['YearsCodePro']=df['YearsCodePro'].astype(float)"
   ]
  },
  {
   "cell_type": "code",
   "execution_count": 43,
   "id": "8125bd53",
   "metadata": {
    "scrolled": false
   },
   "outputs": [
    {
     "data": {
      "image/png": "[encoded data removed]",
      "text/plain": [
       "<Figure size 504x288 with 2 Axes>"
      ]
     },
     "metadata": {
      "needs_background": "light"
     },
     "output_type": "display_data"
    }
   ],
   "source": [
    "# create plot to show Professional Coding Experience\n",
    "fig, axes=plt.subplots(2,1, figsize=(7,4), sharex=True)\n",
    "# Men\n",
    "sns.histplot(data=df[df['Gender']=='Man'], x='YearsCodePro', ax=axes[0])\n",
    "axes[0].set_title('Men')\n",
    "# Add vertical mean line\n",
    "mean_men=df[df['Gender']=='Man']['YearsCodePro'].mean()\n",
    "axes[0].axvline(mean_men, c='red', linestyle='dashed', label=\"Mean YearsCodePro\")\n",
    "# Women\n",
    "sns.histplot(data=df[df['Gender']=='Woman'], x='YearsCodePro', ax=axes[1])\n",
    "axes[1].set_title('Women')\n",
    "# Add vertical mean line\n",
    "mean_women=df[df['Gender']=='Woman']['YearsCodePro'].mean()\n",
    "axes[1].axvline(mean_women, c='red', linestyle='dashed', label=\"Mean YearsCodePro\")\n",
    "sns.despine()\n",
    "# change title\n",
    "fig.suptitle('StackOverflow Survey Data 2022: Professional Coding Experience', size=14)\n",
    "# save plot\n",
    "plt.savefig('Professional Coding Experience.png')\n",
    "plt.legend()\n",
    "plt.show()"
   ]
  },
  {
   "cell_type": "code",
   "execution_count": 17,
   "id": "f704c627",
   "metadata": {},
   "outputs": [
    {
     "name": "stdout",
     "output_type": "stream",
     "text": [
      "10.08275663206459\n",
      "7.601503759398496\n"
     ]
    }
   ],
   "source": [
    "print(mean_men)\n",
    "print(mean_women)"
   ]
  },
  {
   "cell_type": "markdown",
   "id": "4471dc9a",
   "metadata": {},
   "source": [
    "While male participants have an average professional coding experience of 10.1 years, female participants have a slightly less professional coding experience of 7.6 years on average."
   ]
  },
  {
   "cell_type": "markdown",
   "id": "24e29d49",
   "metadata": {},
   "source": [
    "#### YearsCode"
   ]
  },
  {
   "cell_type": "markdown",
   "id": "5454bce4",
   "metadata": {},
   "source": [
    "Let's also compare the column \"YearsCode\", which includes coding experience as a hobby."
   ]
  },
  {
   "cell_type": "code",
   "execution_count": 18,
   "id": "67e47560",
   "metadata": {},
   "outputs": [],
   "source": [
    "# change to numeric values only\n",
    "df['YearsCode']=np.where(df['YearsCode']=='Less than 1 year',1,df['YearsCode'])\n",
    "df['YearsCode']=np.where(df['YearsCode']=='More than 50 years',51,df['YearsCode'])\n",
    "\n",
    "# convert column from object type to float\n",
    "df['YearsCode']=df['YearsCode'].astype(float)"
   ]
  },
  {
   "cell_type": "code",
   "execution_count": 44,
   "id": "591bd11e",
   "metadata": {
    "scrolled": true
   },
   "outputs": [
    {
     "data": {
      "image/png": "[encoded data removed]",
      "text/plain": [
       "<Figure size 504x288 with 2 Axes>"
      ]
     },
     "metadata": {
      "needs_background": "light"
     },
     "output_type": "display_data"
    }
   ],
   "source": [
    "# create plot to show overall coding experience\n",
    "fig, axes=plt.subplots(2,1, figsize=(7,4), sharex=True)\n",
    "# Men\n",
    "sns.histplot(data=df[df['Gender']=='Man'], x='YearsCode', ax=axes[0])\n",
    "axes[0].set_title('Men')\n",
    "# Add vertical mean line\n",
    "mean_men2=df[df['Gender']=='Man']['YearsCode'].mean()\n",
    "axes[0].axvline(mean_men2, c='red', linestyle='dashed', label=\"Mean YearsCode\")\n",
    "# Women\n",
    "sns.histplot(data=df[df['Gender']=='Woman'], x='YearsCode', ax=axes[1])\n",
    "axes[1].set_title('Women')\n",
    "# Add vertical mean line\n",
    "mean_women2=df[df['Gender']=='Woman']['YearsCode'].mean()\n",
    "axes[1].axvline(mean_women2, c='red', linestyle='dashed', label=\"Mean YearsCode\")\n",
    "sns.despine()\n",
    "# change title\n",
    "fig.suptitle('StackOverflow Survey Data 2022: Overall Coding Experience', size=14)\n",
    "# save plot\n",
    "plt.savefig('Overall Coding Experience.png')\n",
    "plt.legend()\n",
    "plt.show()"
   ]
  },
  {
   "cell_type": "code",
   "execution_count": 20,
   "id": "7d07ed18",
   "metadata": {},
   "outputs": [
    {
     "name": "stdout",
     "output_type": "stream",
     "text": [
      "14.597552365262414\n",
      "11.85064935064935\n"
     ]
    }
   ],
   "source": [
    "print(mean_men2)\n",
    "print(mean_women2)"
   ]
  },
  {
   "cell_type": "markdown",
   "id": "8a32d70d",
   "metadata": {},
   "source": [
    "Again, while male participants have an average overall coding experience of 14.6 years, female participants have a slightly less overall coding experience of 11.9 years on average."
   ]
  },
  {
   "cell_type": "markdown",
   "id": "3ff87a6b",
   "metadata": {},
   "source": [
    "### Question 4: How old are male and female developers?"
   ]
  },
  {
   "cell_type": "markdown",
   "id": "df1c55ac",
   "metadata": {},
   "source": [
    "An employee's age could also influence their salary. Let's compare ages between men and women"
   ]
  },
  {
   "cell_type": "code",
   "execution_count": 21,
   "id": "f2bafd25",
   "metadata": {},
   "outputs": [
    {
     "data": {
      "text/plain": [
       "array(['25-34 years old', '55-64 years old', '18-24 years old',\n",
       "       '35-44 years old', '45-54 years old', '65 years or older',\n",
       "       'Under 18 years old', 'Prefer not to say', nan], dtype=object)"
      ]
     },
     "execution_count": 21,
     "metadata": {},
     "output_type": "execute_result"
    }
   ],
   "source": [
    "df['Age'].unique()"
   ]
  },
  {
   "cell_type": "markdown",
   "id": "5cc103c4",
   "metadata": {},
   "source": [
    "To be able to compare ages better, let's convert the answers to numeric ones. We'll always use the mean value of the categories, e.g. the answer '25-34 years old' will convert to 30."
   ]
  },
  {
   "cell_type": "code",
   "execution_count": 22,
   "id": "53cc06e9",
   "metadata": {},
   "outputs": [],
   "source": [
    "# change to numeric values\n",
    "df['Age']=np.where(df['Age']=='25-34 years old',30,df['Age'])\n",
    "df['Age']=np.where(df['Age']=='55-64 years old',60,df['Age'])\n",
    "df['Age']=np.where(df['Age']=='18-24 years old',20,df['Age'])\n",
    "df['Age']=np.where(df['Age']=='35-44 years old',40,df['Age'])\n",
    "df['Age']=np.where(df['Age']=='45-54 years old',50,df['Age'])\n",
    "df['Age']=np.where(df['Age']=='Under 18 years old',17,df['Age'])\n",
    "df['Age']=np.where(df['Age']=='65 years or older',66,df['Age'])\n",
    "df['Age']=np.where(df['Age']=='Prefer not to say',np.nan,df['Age'])\n",
    "\n",
    "# convert column from object type to float\n",
    "df['Age']=df['Age'].astype(float)"
   ]
  },
  {
   "cell_type": "code",
   "execution_count": 45,
   "id": "3885ff46",
   "metadata": {
    "scrolled": true
   },
   "outputs": [
    {
     "data": {
      "image/png": "[encoded data removed]",
      "text/plain": [
       "<Figure size 504x288 with 2 Axes>"
      ]
     },
     "metadata": {
      "needs_background": "light"
     },
     "output_type": "display_data"
    }
   ],
   "source": [
    "# create plot to show Age\n",
    "fig, axes=plt.subplots(2,1, figsize=(7,4), sharex=True)\n",
    "# Men\n",
    "sns.histplot(data=df[df['Gender']=='Man'], x='Age', ax=axes[0])\n",
    "axes[0].set_title('Men')\n",
    "# Add vertical mean line\n",
    "mean_men3=df[df['Gender']=='Man']['Age'].mean()\n",
    "axes[0].axvline(mean_men3, c='red', linestyle='dashed', label=\"Mean Age\")\n",
    "# Women\n",
    "sns.histplot(data=df[df['Gender']=='Woman'], x='Age', ax=axes[1])\n",
    "axes[1].set_title('Women')\n",
    "# Add vertical mean line\n",
    "mean_women3=df[df['Gender']=='Woman']['Age'].mean()\n",
    "axes[1].axvline(mean_women3, c='red', linestyle='dashed', label=\"Mean Age\")\n",
    "# change title\n",
    "fig.suptitle('StackOverflow Survey Data 2022: Age', size=14)\n",
    "# save plot\n",
    "plt.savefig('Age.png')\n",
    "sns.despine()\n",
    "plt.legend()\n",
    "plt.show()"
   ]
  },
  {
   "cell_type": "code",
   "execution_count": 24,
   "id": "64e02f26",
   "metadata": {
    "scrolled": true
   },
   "outputs": [
    {
     "name": "stdout",
     "output_type": "stream",
     "text": [
      "32.83933192190073\n",
      "32.857142857142854\n"
     ]
    }
   ],
   "source": [
    "print(mean_men3)\n",
    "print(mean_women3)"
   ]
  },
  {
   "cell_type": "markdown",
   "id": "da0adfa8",
   "metadata": {},
   "source": [
    "Male and female participants have the same mean age of around 32.8."
   ]
  },
  {
   "cell_type": "markdown",
   "id": "a1735a36",
   "metadata": {},
   "source": [
    "### Question 5: What is the organizational size of the companies male and female developers work for?"
   ]
  },
  {
   "cell_type": "markdown",
   "id": "93145dbc",
   "metadata": {},
   "source": [
    "The company size might also influence the salary, let's explore it."
   ]
  },
  {
   "cell_type": "code",
   "execution_count": 25,
   "id": "48a96397",
   "metadata": {
    "scrolled": true
   },
   "outputs": [
    {
     "data": {
      "text/plain": [
       "array(['20 to 99 employees', '100 to 499 employees',\n",
       "       '10,000 or more employees', nan, '500 to 999 employees',\n",
       "       'Just me - I am a freelancer, sole proprietor, etc.',\n",
       "       '10 to 19 employees', '1,000 to 4,999 employees',\n",
       "       '2 to 9 employees', 'I don’t know', '5,000 to 9,999 employees'],\n",
       "      dtype=object)"
      ]
     },
     "execution_count": 25,
     "metadata": {},
     "output_type": "execute_result"
    }
   ],
   "source": [
    "df['OrgSize'].unique()"
   ]
  },
  {
   "cell_type": "markdown",
   "id": "db226869",
   "metadata": {},
   "source": [
    "Again, to be able to compare participants better, categories will be converted to numeric ones."
   ]
  },
  {
   "cell_type": "code",
   "execution_count": 26,
   "id": "2a89857d",
   "metadata": {},
   "outputs": [],
   "source": [
    "# change to numeric values\n",
    "df['OrgSize']=np.where(df['OrgSize']=='20 to 99 employees',50,df['OrgSize'])\n",
    "df['OrgSize']=np.where(df['OrgSize']=='100 to 499 employees',300,df['OrgSize'])\n",
    "df['OrgSize']=np.where(df['OrgSize']=='500 to 999 employees',800,df['OrgSize'])\n",
    "df['OrgSize']=np.where(df['OrgSize']=='10,000 or more employees',10000,df['OrgSize'])\n",
    "df['OrgSize']=np.where(df['OrgSize']=='Just me - I am a freelancer, sole proprietor, etc.',1,df['OrgSize'])\n",
    "df['OrgSize']=np.where(df['OrgSize']=='10 to 19 employees',15,df['OrgSize'])\n",
    "df['OrgSize']=np.where(df['OrgSize']=='1,000 to 4,999 employees',3000,df['OrgSize'])\n",
    "df['OrgSize']=np.where(df['OrgSize']=='2 to 9 employees',5,df['OrgSize'])\n",
    "df['OrgSize']=np.where(df['OrgSize']=='5,000 to 9,999 employees',8000,df['OrgSize'])\n",
    "df['OrgSize']=np.where(df['OrgSize']=='I don’t know',np.nan,df['OrgSize'])"
   ]
  },
  {
   "cell_type": "code",
   "execution_count": 46,
   "id": "567346b8",
   "metadata": {
    "scrolled": true
   },
   "outputs": [
    {
     "data": {
      "image/png": "[encoded data removed]",
      "text/plain": [
       "<Figure size 504x288 with 2 Axes>"
      ]
     },
     "metadata": {
      "needs_background": "light"
     },
     "output_type": "display_data"
    }
   ],
   "source": [
    "# create plot to show Organizational size\n",
    "fig, axes=plt.subplots(2,1, figsize=(7,4), sharex=True)\n",
    "# Men\n",
    "sns.histplot(data=df[df['Gender']=='Man'], x='OrgSize', ax=axes[0])\n",
    "axes[0].set_title('Men')\n",
    "# Add vertical mean line\n",
    "mean_men4=df[df['Gender']=='Man']['OrgSize'].mean()\n",
    "axes[0].axvline(mean_men4, c='red', linestyle='dashed', label=\"Mean OrgSize\")\n",
    "# Women\n",
    "sns.histplot(data=df[df['Gender']=='Woman'], x='OrgSize', ax=axes[1])\n",
    "axes[1].set_title('Women')\n",
    "# Add vertical mean line\n",
    "mean_women4=df[df['Gender']=='Woman']['OrgSize'].mean()\n",
    "axes[1].axvline(mean_women4, c='red', linestyle='dashed', label=\"Mean OrgSize\")\n",
    "sns.despine()\n",
    "# change title\n",
    "fig.suptitle('StackOverflow Survey Data 2022: Organizational Size', size=14)\n",
    "# save plot\n",
    "plt.savefig('Organizational Size.png')\n",
    "plt.legend()\n",
    "plt.show()"
   ]
  },
  {
   "cell_type": "code",
   "execution_count": 28,
   "id": "46273f36",
   "metadata": {
    "scrolled": true
   },
   "outputs": [
    {
     "name": "stdout",
     "output_type": "stream",
     "text": [
      "1963.9806022003474\n",
      "1300.6946564885495\n"
     ]
    }
   ],
   "source": [
    "print(mean_men4)\n",
    "print(mean_women4)"
   ]
  },
  {
   "cell_type": "markdown",
   "id": "9be3271b",
   "metadata": {},
   "source": [
    "Female participants of the survey tend to work in smaller companies."
   ]
  },
  {
   "cell_type": "markdown",
   "id": "f2b2e7a8",
   "metadata": {},
   "source": [
    "## Summary"
   ]
  },
  {
   "cell_type": "markdown",
   "id": "d87a8e75",
   "metadata": {},
   "source": [
    "Data exploration showed that there were far more male participants in the survey than female participants. However, this may represent the portion of Women working in software development."
   ]
  },
  {
   "cell_type": "markdown",
   "id": "82564b04",
   "metadata": {},
   "source": [
    "Female developers in this survey tended to have a higher educational degree, which could increase their potential salary."
   ]
  },
  {
   "cell_type": "markdown",
   "id": "3aaa89c1",
   "metadata": {},
   "source": [
    "However, male participants had a longer experience in both working and coding. Furthermore, male participants tended to work in bigger companies, which could also increase their salary."
   ]
  },
  {
   "cell_type": "markdown",
   "id": "dae19d0a",
   "metadata": {},
   "source": [
    "To check if there is a gender pay gap within developers taking part in this survey that is only influenced by the participant being a man or woman regardless of their degree or experience, we'll build a predictive model on the salary. We'll try to predict the salary including all information available and also without including gender information. In the end, we can compare which model creates more accurate predictions on the salary."
   ]
  },
  {
   "cell_type": "markdown",
   "id": "7642ff4f",
   "metadata": {},
   "source": [
    "## Question 6: What is the salary of male and female developers and is there a gender pay gap?"
   ]
  },
  {
   "cell_type": "markdown",
   "id": "f05a931f",
   "metadata": {},
   "source": [
    "As a target to predict, we'll use the column \"ConvertedCompYearly\". Since there are missing values within this column, for our prediction model we'll only use participants that gave salary information."
   ]
  },
  {
   "cell_type": "code",
   "execution_count": 29,
   "id": "e7d76880",
   "metadata": {},
   "outputs": [],
   "source": [
    "# only use results with a Salary\n",
    "df=df[df['ConvertedCompYearly'].notna()].copy()"
   ]
  },
  {
   "cell_type": "code",
   "execution_count": 30,
   "id": "e9f41ecf",
   "metadata": {},
   "outputs": [
    {
     "data": {
      "text/plain": [
       "array(['EUR European Euro', 'CHF\\tSwiss franc',\n",
       "       'USD\\tUnited States dollar', 'AUD\\tAustralian dollar'],\n",
       "      dtype=object)"
      ]
     },
     "execution_count": 30,
     "metadata": {},
     "output_type": "execute_result"
    }
   ],
   "source": [
    "df['Currency'].unique()"
   ]
  },
  {
   "cell_type": "markdown",
   "id": "23b81d5b",
   "metadata": {},
   "source": [
    "To be able to compare salaries, we'll only use those entries which reported their salary in European Euros."
   ]
  },
  {
   "cell_type": "code",
   "execution_count": 31,
   "id": "f0d4f1da",
   "metadata": {},
   "outputs": [],
   "source": [
    "# only use results with currency EUR\n",
    "df=df[df['Currency']=='EUR European Euro'].copy()"
   ]
  },
  {
   "cell_type": "markdown",
   "id": "0ecfbb8b",
   "metadata": {},
   "source": [
    "Let's have a look at the median and mean salary for Men and Women"
   ]
  },
  {
   "cell_type": "code",
   "execution_count": 32,
   "id": "cd7af940",
   "metadata": {},
   "outputs": [
    {
     "data": {
      "image/png": "[encoded data removed]",
      "text/plain": [
       "<Figure size 432x288 with 1 Axes>"
      ]
     },
     "metadata": {
      "needs_background": "light"
     },
     "output_type": "display_data"
    }
   ],
   "source": [
    "plt.figure()\n",
    "box_plot=sns.boxplot(x=\"Gender\", y=\"ConvertedCompYearly\", data=df, showmeans=True, showfliers=False, meanprops={'marker':'o', 'markerfacecolor':'white', 'markeredgecolor':'black', 'markersize':'10'})\n",
    "# calculate means and medians\n",
    "medians=df.groupby(['Gender'])['ConvertedCompYearly'].median()\n",
    "means=round(df.groupby(['Gender'])['ConvertedCompYearly'].mean())\n",
    "# offset for display\n",
    "median_offset = df['ConvertedCompYearly'].median() * 0.05\n",
    "mean_offset = df['ConvertedCompYearly'].median() * 0.1\n",
    "# display mean and median\n",
    "for xtick in box_plot.get_xticks():\n",
    "    box_plot.text(xtick,medians[xtick] + median_offset,medians[xtick], \n",
    "            horizontalalignment='center',size='large',color='black')\n",
    "    box_plot.text(xtick,means[xtick] + mean_offset,means[xtick], \n",
    "            horizontalalignment='left',size='large',color='black')\n",
    "# ylabel and title\n",
    "plt.ylabel('Yearly Salary in EUR')\n",
    "plt.title('StackOverflow Survey Data 2022: Effect of Gender on Salary', size=14)\n",
    "sns.despine()\n",
    "# save plot\n",
    "plt.savefig('Effect of Gender on Salary.png', bbox_inches = 'tight')\n",
    "plt.show()"
   ]
  },
  {
   "cell_type": "markdown",
   "id": "6c6a9b27",
   "metadata": {},
   "source": [
    "The figure shows that male developers in Germany earn a higher salary than female developers."
   ]
  },
  {
   "cell_type": "markdown",
   "id": "544248d6",
   "metadata": {},
   "source": [
    "To test whether both could still be samples of the same group, we'll perform a t-test. We'll state the null hypothesis:"
   ]
  },
  {
   "cell_type": "markdown",
   "id": "535e2f0c",
   "metadata": {},
   "source": [
    "$H_0$: Both populations' (Men and Women) means are identical. There is no gender pay gap."
   ]
  },
  {
   "cell_type": "code",
   "execution_count": 33,
   "id": "4d734f1d",
   "metadata": {},
   "outputs": [
    {
     "name": "stdout",
     "output_type": "stream",
     "text": [
      "Test statistic:  3.71724954046411 , p-Value:  0.000289579232023612\n"
     ]
    }
   ],
   "source": [
    "from scipy.stats import ttest_ind\n",
    "# create male and female dfs\n",
    "df_male=df[df['Gender']=='Man']['ConvertedCompYearly']\n",
    "df_female=df[df['Gender']=='Woman']['ConvertedCompYearly']\n",
    "# perform t-test\n",
    "tStat, pValue =ttest_ind(df_male, df_female, equal_var=False, alternative='two-sided')\n",
    "# print results\n",
    "print('Test statistic: ', tStat, ', p-Value: ', pValue)"
   ]
  },
  {
   "cell_type": "markdown",
   "id": "54d90c45",
   "metadata": {},
   "source": [
    "Since the p-Value is low (<0.05), we can reject the null hypothesis at a 95% level of confidence. There seems to indeed be a gender pay gap for female developers in Germany."
   ]
  }
 ],
 "metadata": {
  "kernelspec": {
   "display_name": "Python 3 (ipykernel)",
   "language": "python",
   "name": "python3"
  },
  "language_info": {
   "codemirror_mode": {
    "name": "ipython",
    "version": 3
   },
   "file_extension": ".py",
   "mimetype": "text/x-python",
   "name": "python",
   "nbconvert_exporter": "python",
   "pygments_lexer": "ipython3",
   "version": "3.9.10"
  }
 },
 "nbformat": 4,
 "nbformat_minor": 5
}
